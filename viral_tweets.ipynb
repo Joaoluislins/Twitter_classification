{
  "nbformat": 4,
  "nbformat_minor": 0,
  "metadata": {
    "kernelspec": {
      "display_name": "Python 3",
      "language": "python",
      "name": "python3"
    },
    "language_info": {
      "codemirror_mode": {
        "name": "ipython",
        "version": 3
      },
      "file_extension": ".py",
      "mimetype": "text/x-python",
      "name": "python",
      "nbconvert_exporter": "python",
      "pygments_lexer": "ipython3",
      "version": "3.6.5"
    },
    "colab": {
      "name": "viral_tweets.ipynb",
      "provenance": []
    }
  },
  "cells": [
    {
      "cell_type": "markdown",
      "metadata": {
        "id": "TrVTpkzVviE4"
      },
      "source": [
        "#Viral Tweets \n",
        "\n",
        "In this project, we are going to use the K-Nearest Neighbor (KNN) machine learning algorithm to predict whether a tweet will go viral. Below are the sections of the project for better navigation:\n",
        "\n",
        "\n",
        "1. Libraries\n",
        "2. Inspection of the dataset\n",
        "3. Creating features and labels\n",
        "4. Normalizing the data\n",
        "5. Spliting Train and Test Set\n",
        "6. Training the Classifier\n",
        "7. Fine tuning the parameter 'k'\n",
        "8. Defining best prediction ratio (score)\n"
      ]
    },
    {
      "cell_type": "markdown",
      "metadata": {
        "id": "n4FaYkzrhFog"
      },
      "source": [
        "##Libraries"
      ]
    },
    {
      "cell_type": "code",
      "metadata": {
        "id": "8HIN4sXnhEK5"
      },
      "source": [
        "import pandas as pd\n",
        "import numpy as np\n",
        "from sklearn.preprocessing import scale\n",
        "from sklearn.model_selection import train_test_split\n",
        "from sklearn.neighbors import KNeighborsClassifier\n",
        "import matplotlib.pyplot as plt"
      ],
      "execution_count": 2,
      "outputs": []
    },
    {
      "cell_type": "markdown",
      "metadata": {
        "id": "T1vdzVVJg0g3"
      },
      "source": [
        "## Inspection of the dataset\n",
        "\n",
        "\n",
        "First lets take a look on the dataset to get some insights and inspect the data."
      ]
    },
    {
      "cell_type": "code",
      "metadata": {
        "id": "-kqjDWpAviE_",
        "colab": {
          "base_uri": "https://localhost:8080/",
          "height": 1000
        },
        "outputId": "6c488d2c-e6d7-4391-9b52-b22a524bf61d"
      },
      "source": [
        "### Importing the json file from my github repository into a pandas DataFrame object ###\n",
        "all_tweets = pd.read_json(\"https://raw.githubusercontent.com/Joaoluislins/Twitter_classification/main/random_tweets.json\", lines=True)\n",
        "print(all_tweets.info())\n",
        "all_tweets.head()\n"
      ],
      "execution_count": 42,
      "outputs": [
        {
          "output_type": "stream",
          "text": [
            "<class 'pandas.core.frame.DataFrame'>\n",
            "RangeIndex: 11099 entries, 0 to 11098\n",
            "Data columns (total 31 columns):\n",
            " #   Column                     Non-Null Count  Dtype              \n",
            "---  ------                     --------------  -----              \n",
            " 0   created_at                 11099 non-null  datetime64[ns, UTC]\n",
            " 1   id                         11099 non-null  int64              \n",
            " 2   id_str                     11099 non-null  int64              \n",
            " 3   text                       11099 non-null  object             \n",
            " 4   truncated                  11099 non-null  bool               \n",
            " 5   entities                   11099 non-null  object             \n",
            " 6   metadata                   11099 non-null  object             \n",
            " 7   source                     11099 non-null  object             \n",
            " 8   in_reply_to_status_id      1402 non-null   float64            \n",
            " 9   in_reply_to_status_id_str  1402 non-null   float64            \n",
            " 10  in_reply_to_user_id        1503 non-null   float64            \n",
            " 11  in_reply_to_user_id_str    1503 non-null   float64            \n",
            " 12  in_reply_to_screen_name    1503 non-null   object             \n",
            " 13  user                       11099 non-null  object             \n",
            " 14  geo                        17 non-null     object             \n",
            " 15  coordinates                17 non-null     object             \n",
            " 16  place                      156 non-null    object             \n",
            " 17  contributors               0 non-null      float64            \n",
            " 18  retweeted_status           7372 non-null   object             \n",
            " 19  is_quote_status            11099 non-null  bool               \n",
            " 20  retweet_count              11099 non-null  int64              \n",
            " 21  favorite_count             11099 non-null  int64              \n",
            " 22  favorited                  11099 non-null  bool               \n",
            " 23  retweeted                  11099 non-null  bool               \n",
            " 24  lang                       11099 non-null  object             \n",
            " 25  possibly_sensitive         3192 non-null   float64            \n",
            " 26  quoted_status_id           1154 non-null   float64            \n",
            " 27  quoted_status_id_str       1154 non-null   float64            \n",
            " 28  extended_entities          1199 non-null   object             \n",
            " 29  quoted_status              327 non-null    object             \n",
            " 30  withheld_in_countries      2 non-null      object             \n",
            "dtypes: bool(4), datetime64[ns, UTC](1), float64(8), int64(4), object(14)\n",
            "memory usage: 2.3+ MB\n",
            "None\n"
          ],
          "name": "stdout"
        },
        {
          "output_type": "execute_result",
          "data": {
            "text/html": [
              "<div>\n",
              "<style scoped>\n",
              "    .dataframe tbody tr th:only-of-type {\n",
              "        vertical-align: middle;\n",
              "    }\n",
              "\n",
              "    .dataframe tbody tr th {\n",
              "        vertical-align: top;\n",
              "    }\n",
              "\n",
              "    .dataframe thead th {\n",
              "        text-align: right;\n",
              "    }\n",
              "</style>\n",
              "<table border=\"1\" class=\"dataframe\">\n",
              "  <thead>\n",
              "    <tr style=\"text-align: right;\">\n",
              "      <th></th>\n",
              "      <th>created_at</th>\n",
              "      <th>id</th>\n",
              "      <th>id_str</th>\n",
              "      <th>text</th>\n",
              "      <th>truncated</th>\n",
              "      <th>entities</th>\n",
              "      <th>metadata</th>\n",
              "      <th>source</th>\n",
              "      <th>in_reply_to_status_id</th>\n",
              "      <th>in_reply_to_status_id_str</th>\n",
              "      <th>in_reply_to_user_id</th>\n",
              "      <th>in_reply_to_user_id_str</th>\n",
              "      <th>in_reply_to_screen_name</th>\n",
              "      <th>user</th>\n",
              "      <th>geo</th>\n",
              "      <th>coordinates</th>\n",
              "      <th>place</th>\n",
              "      <th>contributors</th>\n",
              "      <th>retweeted_status</th>\n",
              "      <th>is_quote_status</th>\n",
              "      <th>retweet_count</th>\n",
              "      <th>favorite_count</th>\n",
              "      <th>favorited</th>\n",
              "      <th>retweeted</th>\n",
              "      <th>lang</th>\n",
              "      <th>possibly_sensitive</th>\n",
              "      <th>quoted_status_id</th>\n",
              "      <th>quoted_status_id_str</th>\n",
              "      <th>extended_entities</th>\n",
              "      <th>quoted_status</th>\n",
              "      <th>withheld_in_countries</th>\n",
              "    </tr>\n",
              "  </thead>\n",
              "  <tbody>\n",
              "    <tr>\n",
              "      <th>0</th>\n",
              "      <td>2018-07-31 13:34:40+00:00</td>\n",
              "      <td>1024287229525598210</td>\n",
              "      <td>1024287229525598208</td>\n",
              "      <td>RT @KWWLStormTrack7: We are more than a month ...</td>\n",
              "      <td>False</td>\n",
              "      <td>{'hashtags': [], 'symbols': [], 'user_mentions...</td>\n",
              "      <td>{'iso_language_code': 'en', 'result_type': 're...</td>\n",
              "      <td>&lt;a href=\"http://twitter.com/download/android\" ...</td>\n",
              "      <td>NaN</td>\n",
              "      <td>NaN</td>\n",
              "      <td>NaN</td>\n",
              "      <td>NaN</td>\n",
              "      <td>None</td>\n",
              "      <td>{'id': 145388018, 'id_str': '145388018', 'name...</td>\n",
              "      <td>None</td>\n",
              "      <td>None</td>\n",
              "      <td>None</td>\n",
              "      <td>NaN</td>\n",
              "      <td>{'created_at': 'Mon Jul 30 16:49:41 +0000 2018...</td>\n",
              "      <td>False</td>\n",
              "      <td>3</td>\n",
              "      <td>0</td>\n",
              "      <td>False</td>\n",
              "      <td>False</td>\n",
              "      <td>en</td>\n",
              "      <td>NaN</td>\n",
              "      <td>NaN</td>\n",
              "      <td>NaN</td>\n",
              "      <td>NaN</td>\n",
              "      <td>NaN</td>\n",
              "      <td>NaN</td>\n",
              "    </tr>\n",
              "    <tr>\n",
              "      <th>1</th>\n",
              "      <td>2018-07-31 13:34:40+00:00</td>\n",
              "      <td>1024287229512953856</td>\n",
              "      <td>1024287229512953856</td>\n",
              "      <td>@hail_ee23 Thanks love its just the feeling of...</td>\n",
              "      <td>False</td>\n",
              "      <td>{'hashtags': [], 'symbols': [], 'user_mentions...</td>\n",
              "      <td>{'iso_language_code': 'en', 'result_type': 're...</td>\n",
              "      <td>&lt;a href=\"http://twitter.com/download/iphone\" r...</td>\n",
              "      <td>1.024128e+18</td>\n",
              "      <td>1.024128e+18</td>\n",
              "      <td>9.271857e+17</td>\n",
              "      <td>9.271857e+17</td>\n",
              "      <td>hail_ee23</td>\n",
              "      <td>{'id': 2407992339, 'id_str': '2407992339', 'na...</td>\n",
              "      <td>None</td>\n",
              "      <td>None</td>\n",
              "      <td>{'id': '26b41b13d49ea2bf', 'url': 'https://api...</td>\n",
              "      <td>NaN</td>\n",
              "      <td>NaN</td>\n",
              "      <td>False</td>\n",
              "      <td>0</td>\n",
              "      <td>0</td>\n",
              "      <td>False</td>\n",
              "      <td>False</td>\n",
              "      <td>en</td>\n",
              "      <td>NaN</td>\n",
              "      <td>NaN</td>\n",
              "      <td>NaN</td>\n",
              "      <td>NaN</td>\n",
              "      <td>NaN</td>\n",
              "      <td>NaN</td>\n",
              "    </tr>\n",
              "    <tr>\n",
              "      <th>2</th>\n",
              "      <td>2018-07-31 13:34:40+00:00</td>\n",
              "      <td>1024287229504569344</td>\n",
              "      <td>1024287229504569344</td>\n",
              "      <td>RT @TransMediaWatch: Pink News has more on the...</td>\n",
              "      <td>False</td>\n",
              "      <td>{'hashtags': [], 'symbols': [], 'user_mentions...</td>\n",
              "      <td>{'iso_language_code': 'en', 'result_type': 're...</td>\n",
              "      <td>&lt;a href=\"http://twitter.com/download/iphone\" r...</td>\n",
              "      <td>NaN</td>\n",
              "      <td>NaN</td>\n",
              "      <td>NaN</td>\n",
              "      <td>NaN</td>\n",
              "      <td>None</td>\n",
              "      <td>{'id': 901579698223931392, 'id_str': '90157969...</td>\n",
              "      <td>None</td>\n",
              "      <td>None</td>\n",
              "      <td>None</td>\n",
              "      <td>NaN</td>\n",
              "      <td>{'created_at': 'Tue Jul 31 11:03:32 +0000 2018...</td>\n",
              "      <td>False</td>\n",
              "      <td>5</td>\n",
              "      <td>0</td>\n",
              "      <td>False</td>\n",
              "      <td>False</td>\n",
              "      <td>en</td>\n",
              "      <td>0.0</td>\n",
              "      <td>NaN</td>\n",
              "      <td>NaN</td>\n",
              "      <td>NaN</td>\n",
              "      <td>NaN</td>\n",
              "      <td>NaN</td>\n",
              "    </tr>\n",
              "    <tr>\n",
              "      <th>3</th>\n",
              "      <td>2018-07-31 13:34:40+00:00</td>\n",
              "      <td>1024287229496029190</td>\n",
              "      <td>1024287229496029184</td>\n",
              "      <td>RT @realDonaldTrump: One of the reasons we nee...</td>\n",
              "      <td>False</td>\n",
              "      <td>{'hashtags': [], 'symbols': [], 'user_mentions...</td>\n",
              "      <td>{'iso_language_code': 'en', 'result_type': 're...</td>\n",
              "      <td>&lt;a href=\"http://twitter.com/download/android\" ...</td>\n",
              "      <td>NaN</td>\n",
              "      <td>NaN</td>\n",
              "      <td>NaN</td>\n",
              "      <td>NaN</td>\n",
              "      <td>None</td>\n",
              "      <td>{'id': 23438548, 'id_str': '23438548', 'name':...</td>\n",
              "      <td>None</td>\n",
              "      <td>None</td>\n",
              "      <td>None</td>\n",
              "      <td>NaN</td>\n",
              "      <td>{'created_at': 'Tue Jul 31 11:00:41 +0000 2018...</td>\n",
              "      <td>False</td>\n",
              "      <td>11106</td>\n",
              "      <td>0</td>\n",
              "      <td>False</td>\n",
              "      <td>False</td>\n",
              "      <td>en</td>\n",
              "      <td>NaN</td>\n",
              "      <td>NaN</td>\n",
              "      <td>NaN</td>\n",
              "      <td>NaN</td>\n",
              "      <td>NaN</td>\n",
              "      <td>NaN</td>\n",
              "    </tr>\n",
              "    <tr>\n",
              "      <th>4</th>\n",
              "      <td>2018-07-31 13:34:40+00:00</td>\n",
              "      <td>1024287229492031490</td>\n",
              "      <td>1024287229492031488</td>\n",
              "      <td>RT @First5App: This hearing of His Word doesn’...</td>\n",
              "      <td>False</td>\n",
              "      <td>{'hashtags': [], 'symbols': [], 'user_mentions...</td>\n",
              "      <td>{'iso_language_code': 'en', 'result_type': 're...</td>\n",
              "      <td>&lt;a href=\"http://twitter.com/download/iphone\" r...</td>\n",
              "      <td>NaN</td>\n",
              "      <td>NaN</td>\n",
              "      <td>NaN</td>\n",
              "      <td>NaN</td>\n",
              "      <td>None</td>\n",
              "      <td>{'id': 942424782, 'id_str': '942424782', 'name...</td>\n",
              "      <td>None</td>\n",
              "      <td>None</td>\n",
              "      <td>None</td>\n",
              "      <td>NaN</td>\n",
              "      <td>{'created_at': 'Tue Jul 31 12:30:05 +0000 2018...</td>\n",
              "      <td>False</td>\n",
              "      <td>6</td>\n",
              "      <td>0</td>\n",
              "      <td>False</td>\n",
              "      <td>False</td>\n",
              "      <td>en</td>\n",
              "      <td>NaN</td>\n",
              "      <td>NaN</td>\n",
              "      <td>NaN</td>\n",
              "      <td>NaN</td>\n",
              "      <td>NaN</td>\n",
              "      <td>NaN</td>\n",
              "    </tr>\n",
              "  </tbody>\n",
              "</table>\n",
              "</div>"
            ],
            "text/plain": [
              "                 created_at  ...  withheld_in_countries\n",
              "0 2018-07-31 13:34:40+00:00  ...                    NaN\n",
              "1 2018-07-31 13:34:40+00:00  ...                    NaN\n",
              "2 2018-07-31 13:34:40+00:00  ...                    NaN\n",
              "3 2018-07-31 13:34:40+00:00  ...                    NaN\n",
              "4 2018-07-31 13:34:40+00:00  ...                    NaN\n",
              "\n",
              "[5 rows x 31 columns]"
            ]
          },
          "metadata": {
            "tags": []
          },
          "execution_count": 42
        }
      ]
    },
    {
      "cell_type": "markdown",
      "metadata": {
        "id": "YbveOESFmW2h"
      },
      "source": [
        "Wow, its a huge amount of info! there are 11099 rows and 31 columns in total, and some values, such as the in the user column, are dictionaries themselves with a lot more content!\n",
        "\n",
        "Which atributtes should I consider as features to our KNN model as the ones that most influences the chances of a tweet going viral?\n",
        "\n",
        "*   Number of user's followers\n",
        "*   Number of user's friends\n",
        "*   Language used\n",
        "*   Tweet length\n",
        "*   Number of hashtags\n",
        "*   Number of links\n",
        "*   The number of words\n",
        "*   The average length of the words\n",
        "\n",
        "\n"
      ]
    },
    {
      "cell_type": "markdown",
      "metadata": {
        "id": "IsmO1lKUviFb"
      },
      "source": [
        "# Creating features and labels\n",
        "\n",
        "A K-Nearest Neighbor classifier is a supervised machine learning algorithm, and as a result, we need to have a dataset with tagged labels. For this specific example, we need a dataset where every tweet is marked as viral or not viral.\n",
        "\n",
        "So how do we define a viral tweet?\n",
        "A good place to start is to look at the number of retweets the tweet has. \n"
      ]
    },
    {
      "cell_type": "code",
      "metadata": {
        "id": "g1YKME3cviFd",
        "colab": {
          "base_uri": "https://localhost:8080/",
          "height": 1000
        },
        "outputId": "447f4652-faf8-4adc-aa78-c5f787f87ab5"
      },
      "source": [
        "### Analyzing the popularity of each sample in the dataset ###\n",
        "ret_count = all_tweets['retweet_count'].value_counts().reset_index().rename(columns = {'index': 'Retweet_times', 'retweet_count': 'Frequency'})\n",
        "plt.plot(range(len(ret_count)), ret_count)\n",
        "plt.title('Retweet times')\n",
        "plt.xlabel('index in the dataset')\n",
        "plt.ylabel('Number of Retweets')\n",
        "plt.show()\n",
        "\n",
        "### Analyzing the distribution of popularity ###\n",
        "plt.hist(ret_count['Retweet_times'], bins = 1000)\n",
        "plt.show()\n",
        "\n",
        "print(all_tweets['retweet_count'].nlargest(50))\n",
        "print(all_tweets['retweet_count'].mean())\n",
        "\n"
      ],
      "execution_count": 38,
      "outputs": [
        {
          "output_type": "display_data",
          "data": {
            "image/png": "[encoded data removed]",
            "text/plain": [
              "<Figure size 432x288 with 1 Axes>"
            ]
          },
          "metadata": {
            "tags": [],
            "needs_background": "light"
          }
        },
        {
          "output_type": "display_data",
          "data": {
            "image/png": "[encoded data removed]",
            "text/plain": [
              "<Figure size 432x288 with 1 Axes>"
            ]
          },
          "metadata": {
            "tags": [],
            "needs_background": "light"
          }
        },
        {
          "output_type": "stream",
          "text": [
            "5584     413719\n",
            "6185     173062\n",
            "6454     173061\n",
            "9271     173061\n",
            "4821     173060\n",
            "6174     168485\n",
            "4550     168484\n",
            "8460     162433\n",
            "7198     162431\n",
            "4889     162428\n",
            "3311     162425\n",
            "3741     162425\n",
            "1599     162423\n",
            "1667     162421\n",
            "7        162420\n",
            "3094     162417\n",
            "9186     140541\n",
            "7529     140539\n",
            "1297     140538\n",
            "10381    112879\n",
            "10395    112879\n",
            "9895     112878\n",
            "4694     112875\n",
            "1504     112869\n",
            "5766      94965\n",
            "5396      91076\n",
            "9764      89348\n",
            "9311      85216\n",
            "10515     85216\n",
            "9567      84130\n",
            "646       82765\n",
            "10329     82600\n",
            "9808      82595\n",
            "9459      82591\n",
            "8997      82587\n",
            "8509      82586\n",
            "8626      82586\n",
            "8108      82583\n",
            "7839      82581\n",
            "7581      82578\n",
            "7454      82576\n",
            "7486      82576\n",
            "6323      82562\n",
            "6026      82560\n",
            "6038      82560\n",
            "5535      82558\n",
            "5207      82551\n",
            "3952      82543\n",
            "3968      82543\n",
            "3779      82541\n",
            "Name: retweet_count, dtype: int64\n",
            "2777.95639246779\n"
          ],
          "name": "stdout"
        }
      ]
    },
    {
      "cell_type": "markdown",
      "metadata": {
        "id": "d6pDUtsjvz64"
      },
      "source": [
        "It seems that although there are tweets with outstanding popularity, they are extremely rare, as the distribution graph and low mean shows..\n",
        "\n",
        "To define what a viral tweet label is, I'm going to first use the median and then experiment with the third quartile to see if my model's accuracy changes substancially."
      ]
    },
    {
      "cell_type": "code",
      "metadata": {
        "id": "z_KPfzQJ4Cbp"
      },
      "source": [
        "print(all_tweets['user'][0])\n",
        "features['avg_length_words'] =  all_tweets.apply(lambda tweet: (len(tweet['text']) / tweet['n_words']), axis = 1)\n"
      ],
      "execution_count": null,
      "outputs": []
    },
    {
      "cell_type": "code",
      "metadata": {
        "id": "syXoJ4tNyP8E",
        "outputId": "90ca91a9-ba6b-4762-a4f6-b9cff8d33ebf",
        "colab": {
          "base_uri": "https://localhost:8080/",
          "height": 205
        }
      },
      "source": [
        "ret_median = all_tweets['retweet_count'].median()\n",
        "labels = np.where(all_tweets['retweet_count'] > ret_median, 1, 0)\n",
        "\n",
        "features = pd.DataFrame()\n",
        "features['retweet_counts'] = all_tweets['retweet_count']\n",
        "features['n_user_followers'] = all_tweets.apply(lambda tweet: tweet['user']['followers_count'], axis = 1)\n",
        "features['n_user_friends'] = all_tweets.apply(lambda tweet: tweet['user']['friends_count'], axis = 1)\n",
        "features['language'] = all_tweets.apply(lambda tweet: tweet['user']['lang'], axis = 1)\n",
        "features['tweet_length'] = all_tweets.apply(lambda tweet: len(tweet['text']), axis = 1)\n",
        "features['n_hash'] = all_tweets.apply(lambda tweet: tweet['text'].count('#'), axis = 1)\n",
        "features['n_links'] = all_tweets.apply(lambda tweet: tweet['text'].count('http'), axis = 1)\n",
        "features['n_words'] = all_tweets.apply(lambda tweet: len(tweet['text'].split(' ')), axis = 1)\n",
        "features['avg_length_words'] = features.apply(lambda row: (row['tweet_length'] / row['n_words']), axis = 1)\n"
      ],
      "execution_count": 58,
      "outputs": [
        {
          "output_type": "execute_result",
          "data": {
            "text/html": [
              "<div>\n",
              "<style scoped>\n",
              "    .dataframe tbody tr th:only-of-type {\n",
              "        vertical-align: middle;\n",
              "    }\n",
              "\n",
              "    .dataframe tbody tr th {\n",
              "        vertical-align: top;\n",
              "    }\n",
              "\n",
              "    .dataframe thead th {\n",
              "        text-align: right;\n",
              "    }\n",
              "</style>\n",
              "<table border=\"1\" class=\"dataframe\">\n",
              "  <thead>\n",
              "    <tr style=\"text-align: right;\">\n",
              "      <th></th>\n",
              "      <th>retweet_counts</th>\n",
              "      <th>n_user_followers</th>\n",
              "      <th>n_user_friends</th>\n",
              "      <th>language</th>\n",
              "      <th>tweet_length</th>\n",
              "      <th>n_hash</th>\n",
              "      <th>n_links</th>\n",
              "      <th>n_words</th>\n",
              "      <th>avg_length_words</th>\n",
              "    </tr>\n",
              "  </thead>\n",
              "  <tbody>\n",
              "    <tr>\n",
              "      <th>0</th>\n",
              "      <td>3</td>\n",
              "      <td>215</td>\n",
              "      <td>335</td>\n",
              "      <td>en</td>\n",
              "      <td>140</td>\n",
              "      <td>0</td>\n",
              "      <td>0</td>\n",
              "      <td>26</td>\n",
              "      <td>5.384615</td>\n",
              "    </tr>\n",
              "    <tr>\n",
              "      <th>1</th>\n",
              "      <td>0</td>\n",
              "      <td>199</td>\n",
              "      <td>203</td>\n",
              "      <td>en</td>\n",
              "      <td>77</td>\n",
              "      <td>0</td>\n",
              "      <td>0</td>\n",
              "      <td>15</td>\n",
              "      <td>5.133333</td>\n",
              "    </tr>\n",
              "    <tr>\n",
              "      <th>2</th>\n",
              "      <td>5</td>\n",
              "      <td>196</td>\n",
              "      <td>558</td>\n",
              "      <td>en</td>\n",
              "      <td>140</td>\n",
              "      <td>0</td>\n",
              "      <td>0</td>\n",
              "      <td>22</td>\n",
              "      <td>6.363636</td>\n",
              "    </tr>\n",
              "    <tr>\n",
              "      <th>3</th>\n",
              "      <td>11106</td>\n",
              "      <td>3313</td>\n",
              "      <td>2272</td>\n",
              "      <td>en</td>\n",
              "      <td>140</td>\n",
              "      <td>0</td>\n",
              "      <td>0</td>\n",
              "      <td>24</td>\n",
              "      <td>5.833333</td>\n",
              "    </tr>\n",
              "    <tr>\n",
              "      <th>4</th>\n",
              "      <td>6</td>\n",
              "      <td>125</td>\n",
              "      <td>273</td>\n",
              "      <td>en</td>\n",
              "      <td>140</td>\n",
              "      <td>0</td>\n",
              "      <td>0</td>\n",
              "      <td>24</td>\n",
              "      <td>5.833333</td>\n",
              "    </tr>\n",
              "  </tbody>\n",
              "</table>\n",
              "</div>"
            ],
            "text/plain": [
              "   retweet_counts  n_user_followers  ...  n_words avg_length_words\n",
              "0               3               215  ...       26         5.384615\n",
              "1               0               199  ...       15         5.133333\n",
              "2               5               196  ...       22         6.363636\n",
              "3           11106              3313  ...       24         5.833333\n",
              "4               6               125  ...       24         5.833333\n",
              "\n",
              "[5 rows x 9 columns]"
            ]
          },
          "metadata": {
            "tags": []
          },
          "execution_count": 58
        }
      ]
    },
    {
      "cell_type": "code",
      "metadata": {
        "id": "BybeZjufviFi"
      },
      "source": [
        "all_tweets['tweet_length'] = all_tweets.apply(lambda tweet: len(tweet['text']), axis=1)"
      ],
      "execution_count": null,
      "outputs": []
    },
    {
      "cell_type": "markdown",
      "metadata": {
        "id": "btCH2NB8viFv"
      },
      "source": [
        "# Normalizing The Data\n",
        "\n",
        "We've now made the features/labels that we want to feed into our classifier. But first, as the features are in distinct magnitudes, let's scale the data.\n",
        "\n",
        "\n",
        "The scale function will normalize the data so all of the features will vary within the same range. (axis = 0 scales feature-wise (columns))"
      ]
    },
    {
      "cell_type": "code",
      "metadata": {
        "id": "TTVH21O1viF2"
      },
      "source": [
        ""
      ],
      "execution_count": null,
      "outputs": []
    },
    {
      "cell_type": "markdown",
      "metadata": {
        "id": "btaKAbn3viF3"
      },
      "source": [
        "# Creating the Training Set and Test Set\n",
        "\n",
        "To evaluate the effectiveness of our classifier, we now split `scaled_data` and `labels` into a training set and test set using scikit-learn's `train_test_split` function. This function takes two required parameters: It takes the data, followed by the labels. Set the optional parameter `test_size` to be `0.2`. You can also set the `random_state` parameter so your code will randomly split the data in the same way as our solution code splits the data. We used `random_state = 1`. Remember, this function returns 4 items in this order:\n",
        "\n",
        "1. The training data\n",
        "2. The testing data\n",
        "3. The training labels\n",
        "4. The testing labels\n",
        "\n",
        "Store the results in variables named `train_data`, `test_data`, `train_labels`, and `test_labels`."
      ]
    },
    {
      "cell_type": "code",
      "metadata": {
        "id": "IWVAbEN3viF5"
      },
      "source": [
        ""
      ],
      "execution_count": null,
      "outputs": []
    },
    {
      "cell_type": "markdown",
      "metadata": {
        "id": "M2kl-sBhviF5"
      },
      "source": [
        "# Using the Classifier\n",
        "\n",
        "We can finally use the K-Nearest Neighbor classifier. Let's test it using `k = 5`. Begin by creating a `KNeighborsClassifier` object named `classifier` with the parameter `n_neighbors` equal to `5`.\n",
        "\n",
        "Next, train `classifier` by calling the `.fit()` method with `train_data` and `train_labels` as parameters.\n",
        "\n",
        "Finally, let's test the model! Call `classifier`'s `.score()` method using `test_data` and `test_labels` as parameters. Print the results.\n"
      ]
    },
    {
      "cell_type": "code",
      "metadata": {
        "id": "ULNov7s6viF6"
      },
      "source": [
        ""
      ],
      "execution_count": null,
      "outputs": []
    },
    {
      "cell_type": "markdown",
      "metadata": {
        "id": "8OFAkpn-viF7"
      },
      "source": [
        "# Choosing K\n",
        "\n",
        "We've tested our classifier with `k = 5`, but maybe there's a `k` that will work better. Let's test many different values for `k` and graph the results. \n",
        "\n",
        "First, create an empty list called `scores`. Next, create a for loop that has a variable `k` that begins at `1` and ends at `200`.\n",
        "\n",
        "Inside the for loop, create a `KNeighobrsClassifier` object named `classifier` with the parameter `n_neighbors` equal to `k`.\n",
        "\n",
        "Train `classifier` by calling the `.fit()` method with `train_data` and `train_labels` as parameters.\n",
        "\n",
        "Next, let's test the model! Call `classifier`'s `.score()` method using `test_data` and `test_labels` as parameters. `append` the result to `scores`.\n",
        "\n",
        "Finally, let's plot the results. Outside of the loop, use Matplotlib's `plot()` function. `plot()` takes two parameters &mdash; the data on the x-axis and the data on the y-axis. Data on the x-axis should be the values we used for `k`. In this case, `range(1,200)`.  Data on the y-axis should be `scores`. Make sure to call the `plt.show()` function after calling `plt.plot()`. This should take a couple of seconds to run!"
      ]
    },
    {
      "cell_type": "code",
      "metadata": {
        "id": "7GApOUoOviF9"
      },
      "source": [
        ""
      ],
      "execution_count": null,
      "outputs": []
    },
    {
      "cell_type": "markdown",
      "metadata": {
        "id": "RY4TI3SGviF-"
      },
      "source": [
        "# Explore on your own\n",
        "\n",
        "Nice work! You can see the classifier gets better as `k` increases, but as `k` gets too high, underfitting starts to happen.\n",
        "\n",
        "By using the features `tweet_length`, `followers_count`, and `friends_count`, we were able to get up to around 63% accuracy. That is better than random, but still not exceptional. Can you find some different features that perform better? Share your graphs with us on Twitter and maybe it will go viral!"
      ]
    }
  ]
}
{
  "nbformat": 4,
  "nbformat_minor": 0,
  "metadata": {
    "kernelspec": {
      "display_name": "Python 3",
      "language": "python",
      "name": "python3"
    },
    "language_info": {
      "codemirror_mode": {
        "name": "ipython",
        "version": 3
      },
      "file_extension": ".py",
      "mimetype": "text/x-python",
      "name": "python",
      "nbconvert_exporter": "python",
      "pygments_lexer": "ipython3",
      "version": "3.6.5"
    },
    "colab": {
      "name": "viral_tweets.ipynb",
      "provenance": []
    }
  },
  "cells": [
    {
      "cell_type": "markdown",
      "metadata": {
        "id": "TrVTpkzVviE4"
      },
      "source": [
        "#Viral Tweets \n",
        "\n",
        "In this project, we are going to use the K-Nearest Neighbor (KNN) machine learning algorithm to predict whether a tweet will go viral. Below are the sections of the project for better navigation:\n",
        "\n",
        "\n",
        "1. Libraries\n",
        "2. Inspection of the dataset\n",
        "3. Creating features and labels\n",
        "4. Normalizing the data\n",
        "5. Spliting Train and Test Set\n",
        "6. Training the Classifier\n",
        "7. Fine tuning the parameter 'k'\n",
        "8. Defining best prediction ratio (score)\n"
      ]
    },
    {
      "cell_type": "markdown",
      "metadata": {
        "id": "n4FaYkzrhFog"
      },
      "source": [
        "##Libraries"
      ]
    },
    {
      "cell_type": "code",
      "metadata": {
        "id": "8HIN4sXnhEK5"
      },
      "source": [
        "import pandas as pd\n",
        "import numpy as np\n",
        "from sklearn.preprocessing import scale\n",
        "from sklearn.model_selection import train_test_split\n",
        "from sklearn.neighbors import KNeighborsClassifier\n",
        "import matplotlib.pyplot as plt\n",
        "from sklearn.preprocessing import StandardScaler\n",
        "from sklearn.preprocessing import  MinMaxScaler\n",
        "from sklearn.linear_model import LogisticRegression"
      ],
      "execution_count": 48,
      "outputs": []
    },
    {
      "cell_type": "markdown",
      "metadata": {
        "id": "T1vdzVVJg0g3"
      },
      "source": [
        "## Inspection of the dataset\n",
        "\n",
        "\n",
        "First lets take a look on the dataset to get some insights and inspect the data."
      ]
    },
    {
      "cell_type": "code",
      "metadata": {
        "id": "-kqjDWpAviE_",
        "colab": {
          "base_uri": "https://localhost:8080/",
          "height": 1000
        },
        "outputId": "93f71cd9-fb63-4fdd-c224-afe4d943e668"
      },
      "source": [
        "### Importing the json file from my github repository into a pandas DataFrame object ###\n",
        "all_tweets = pd.read_json(\"https://raw.githubusercontent.com/Joaoluislins/Twitter_classification/main/random_tweets.json\", lines=True)\n",
        "print(all_tweets.info())\n",
        "all_tweets.head()\n"
      ],
      "execution_count": 3,
      "outputs": [
        {
          "output_type": "stream",
          "text": [
            "<class 'pandas.core.frame.DataFrame'>\n",
            "RangeIndex: 11099 entries, 0 to 11098\n",
            "Data columns (total 31 columns):\n",
            " #   Column                     Non-Null Count  Dtype              \n",
            "---  ------                     --------------  -----              \n",
            " 0   created_at                 11099 non-null  datetime64[ns, UTC]\n",
            " 1   id                         11099 non-null  int64              \n",
            " 2   id_str                     11099 non-null  int64              \n",
            " 3   text                       11099 non-null  object             \n",
            " 4   truncated                  11099 non-null  bool               \n",
            " 5   entities                   11099 non-null  object             \n",
            " 6   metadata                   11099 non-null  object             \n",
            " 7   source                     11099 non-null  object             \n",
            " 8   in_reply_to_status_id      1402 non-null   float64            \n",
            " 9   in_reply_to_status_id_str  1402 non-null   float64            \n",
            " 10  in_reply_to_user_id        1503 non-null   float64            \n",
            " 11  in_reply_to_user_id_str    1503 non-null   float64            \n",
            " 12  in_reply_to_screen_name    1503 non-null   object             \n",
            " 13  user                       11099 non-null  object             \n",
            " 14  geo                        17 non-null     object             \n",
            " 15  coordinates                17 non-null     object             \n",
            " 16  place                      156 non-null    object             \n",
            " 17  contributors               0 non-null      float64            \n",
            " 18  retweeted_status           7372 non-null   object             \n",
            " 19  is_quote_status            11099 non-null  bool               \n",
            " 20  retweet_count              11099 non-null  int64              \n",
            " 21  favorite_count             11099 non-null  int64              \n",
            " 22  favorited                  11099 non-null  bool               \n",
            " 23  retweeted                  11099 non-null  bool               \n",
            " 24  lang                       11099 non-null  object             \n",
            " 25  possibly_sensitive         3192 non-null   float64            \n",
            " 26  quoted_status_id           1154 non-null   float64            \n",
            " 27  quoted_status_id_str       1154 non-null   float64            \n",
            " 28  extended_entities          1199 non-null   object             \n",
            " 29  quoted_status              327 non-null    object             \n",
            " 30  withheld_in_countries      2 non-null      object             \n",
            "dtypes: bool(4), datetime64[ns, UTC](1), float64(8), int64(4), object(14)\n",
            "memory usage: 2.3+ MB\n",
            "None\n"
          ],
          "name": "stdout"
        },
        {
          "output_type": "execute_result",
          "data": {
            "text/html": [
              "<div>\n",
              "<style scoped>\n",
              "    .dataframe tbody tr th:only-of-type {\n",
              "        vertical-align: middle;\n",
              "    }\n",
              "\n",
              "    .dataframe tbody tr th {\n",
              "        vertical-align: top;\n",
              "    }\n",
              "\n",
              "    .dataframe thead th {\n",
              "        text-align: right;\n",
              "    }\n",
              "</style>\n",
              "<table border=\"1\" class=\"dataframe\">\n",
              "  <thead>\n",
              "    <tr style=\"text-align: right;\">\n",
              "      <th></th>\n",
              "      <th>created_at</th>\n",
              "      <th>id</th>\n",
              "      <th>id_str</th>\n",
              "      <th>text</th>\n",
              "      <th>truncated</th>\n",
              "      <th>entities</th>\n",
              "      <th>metadata</th>\n",
              "      <th>source</th>\n",
              "      <th>in_reply_to_status_id</th>\n",
              "      <th>in_reply_to_status_id_str</th>\n",
              "      <th>in_reply_to_user_id</th>\n",
              "      <th>in_reply_to_user_id_str</th>\n",
              "      <th>in_reply_to_screen_name</th>\n",
              "      <th>user</th>\n",
              "      <th>geo</th>\n",
              "      <th>coordinates</th>\n",
              "      <th>place</th>\n",
              "      <th>contributors</th>\n",
              "      <th>retweeted_status</th>\n",
              "      <th>is_quote_status</th>\n",
              "      <th>retweet_count</th>\n",
              "      <th>favorite_count</th>\n",
              "      <th>favorited</th>\n",
              "      <th>retweeted</th>\n",
              "      <th>lang</th>\n",
              "      <th>possibly_sensitive</th>\n",
              "      <th>quoted_status_id</th>\n",
              "      <th>quoted_status_id_str</th>\n",
              "      <th>extended_entities</th>\n",
              "      <th>quoted_status</th>\n",
              "      <th>withheld_in_countries</th>\n",
              "    </tr>\n",
              "  </thead>\n",
              "  <tbody>\n",
              "    <tr>\n",
              "      <th>0</th>\n",
              "      <td>2018-07-31 13:34:40+00:00</td>\n",
              "      <td>1024287229525598210</td>\n",
              "      <td>1024287229525598208</td>\n",
              "      <td>RT @KWWLStormTrack7: We are more than a month ...</td>\n",
              "      <td>False</td>\n",
              "      <td>{'hashtags': [], 'symbols': [], 'user_mentions...</td>\n",
              "      <td>{'iso_language_code': 'en', 'result_type': 're...</td>\n",
              "      <td>&lt;a href=\"http://twitter.com/download/android\" ...</td>\n",
              "      <td>NaN</td>\n",
              "      <td>NaN</td>\n",
              "      <td>NaN</td>\n",
              "      <td>NaN</td>\n",
              "      <td>None</td>\n",
              "      <td>{'id': 145388018, 'id_str': '145388018', 'name...</td>\n",
              "      <td>None</td>\n",
              "      <td>None</td>\n",
              "      <td>None</td>\n",
              "      <td>NaN</td>\n",
              "      <td>{'created_at': 'Mon Jul 30 16:49:41 +0000 2018...</td>\n",
              "      <td>False</td>\n",
              "      <td>3</td>\n",
              "      <td>0</td>\n",
              "      <td>False</td>\n",
              "      <td>False</td>\n",
              "      <td>en</td>\n",
              "      <td>NaN</td>\n",
              "      <td>NaN</td>\n",
              "      <td>NaN</td>\n",
              "      <td>NaN</td>\n",
              "      <td>NaN</td>\n",
              "      <td>NaN</td>\n",
              "    </tr>\n",
              "    <tr>\n",
              "      <th>1</th>\n",
              "      <td>2018-07-31 13:34:40+00:00</td>\n",
              "      <td>1024287229512953856</td>\n",
              "      <td>1024287229512953856</td>\n",
              "      <td>@hail_ee23 Thanks love its just the feeling of...</td>\n",
              "      <td>False</td>\n",
              "      <td>{'hashtags': [], 'symbols': [], 'user_mentions...</td>\n",
              "      <td>{'iso_language_code': 'en', 'result_type': 're...</td>\n",
              "      <td>&lt;a href=\"http://twitter.com/download/iphone\" r...</td>\n",
              "      <td>1.024128e+18</td>\n",
              "      <td>1.024128e+18</td>\n",
              "      <td>9.271857e+17</td>\n",
              "      <td>9.271857e+17</td>\n",
              "      <td>hail_ee23</td>\n",
              "      <td>{'id': 2407992339, 'id_str': '2407992339', 'na...</td>\n",
              "      <td>None</td>\n",
              "      <td>None</td>\n",
              "      <td>{'id': '26b41b13d49ea2bf', 'url': 'https://api...</td>\n",
              "      <td>NaN</td>\n",
              "      <td>NaN</td>\n",
              "      <td>False</td>\n",
              "      <td>0</td>\n",
              "      <td>0</td>\n",
              "      <td>False</td>\n",
              "      <td>False</td>\n",
              "      <td>en</td>\n",
              "      <td>NaN</td>\n",
              "      <td>NaN</td>\n",
              "      <td>NaN</td>\n",
              "      <td>NaN</td>\n",
              "      <td>NaN</td>\n",
              "      <td>NaN</td>\n",
              "    </tr>\n",
              "    <tr>\n",
              "      <th>2</th>\n",
              "      <td>2018-07-31 13:34:40+00:00</td>\n",
              "      <td>1024287229504569344</td>\n",
              "      <td>1024287229504569344</td>\n",
              "      <td>RT @TransMediaWatch: Pink News has more on the...</td>\n",
              "      <td>False</td>\n",
              "      <td>{'hashtags': [], 'symbols': [], 'user_mentions...</td>\n",
              "      <td>{'iso_language_code': 'en', 'result_type': 're...</td>\n",
              "      <td>&lt;a href=\"http://twitter.com/download/iphone\" r...</td>\n",
              "      <td>NaN</td>\n",
              "      <td>NaN</td>\n",
              "      <td>NaN</td>\n",
              "      <td>NaN</td>\n",
              "      <td>None</td>\n",
              "      <td>{'id': 901579698223931392, 'id_str': '90157969...</td>\n",
              "      <td>None</td>\n",
              "      <td>None</td>\n",
              "      <td>None</td>\n",
              "      <td>NaN</td>\n",
              "      <td>{'created_at': 'Tue Jul 31 11:03:32 +0000 2018...</td>\n",
              "      <td>False</td>\n",
              "      <td>5</td>\n",
              "      <td>0</td>\n",
              "      <td>False</td>\n",
              "      <td>False</td>\n",
              "      <td>en</td>\n",
              "      <td>0.0</td>\n",
              "      <td>NaN</td>\n",
              "      <td>NaN</td>\n",
              "      <td>NaN</td>\n",
              "      <td>NaN</td>\n",
              "      <td>NaN</td>\n",
              "    </tr>\n",
              "    <tr>\n",
              "      <th>3</th>\n",
              "      <td>2018-07-31 13:34:40+00:00</td>\n",
              "      <td>1024287229496029190</td>\n",
              "      <td>1024287229496029184</td>\n",
              "      <td>RT @realDonaldTrump: One of the reasons we nee...</td>\n",
              "      <td>False</td>\n",
              "      <td>{'hashtags': [], 'symbols': [], 'user_mentions...</td>\n",
              "      <td>{'iso_language_code': 'en', 'result_type': 're...</td>\n",
              "      <td>&lt;a href=\"http://twitter.com/download/android\" ...</td>\n",
              "      <td>NaN</td>\n",
              "      <td>NaN</td>\n",
              "      <td>NaN</td>\n",
              "      <td>NaN</td>\n",
              "      <td>None</td>\n",
              "      <td>{'id': 23438548, 'id_str': '23438548', 'name':...</td>\n",
              "      <td>None</td>\n",
              "      <td>None</td>\n",
              "      <td>None</td>\n",
              "      <td>NaN</td>\n",
              "      <td>{'created_at': 'Tue Jul 31 11:00:41 +0000 2018...</td>\n",
              "      <td>False</td>\n",
              "      <td>11106</td>\n",
              "      <td>0</td>\n",
              "      <td>False</td>\n",
              "      <td>False</td>\n",
              "      <td>en</td>\n",
              "      <td>NaN</td>\n",
              "      <td>NaN</td>\n",
              "      <td>NaN</td>\n",
              "      <td>NaN</td>\n",
              "      <td>NaN</td>\n",
              "      <td>NaN</td>\n",
              "    </tr>\n",
              "    <tr>\n",
              "      <th>4</th>\n",
              "      <td>2018-07-31 13:34:40+00:00</td>\n",
              "      <td>1024287229492031490</td>\n",
              "      <td>1024287229492031488</td>\n",
              "      <td>RT @First5App: This hearing of His Word doesn’...</td>\n",
              "      <td>False</td>\n",
              "      <td>{'hashtags': [], 'symbols': [], 'user_mentions...</td>\n",
              "      <td>{'iso_language_code': 'en', 'result_type': 're...</td>\n",
              "      <td>&lt;a href=\"http://twitter.com/download/iphone\" r...</td>\n",
              "      <td>NaN</td>\n",
              "      <td>NaN</td>\n",
              "      <td>NaN</td>\n",
              "      <td>NaN</td>\n",
              "      <td>None</td>\n",
              "      <td>{'id': 942424782, 'id_str': '942424782', 'name...</td>\n",
              "      <td>None</td>\n",
              "      <td>None</td>\n",
              "      <td>None</td>\n",
              "      <td>NaN</td>\n",
              "      <td>{'created_at': 'Tue Jul 31 12:30:05 +0000 2018...</td>\n",
              "      <td>False</td>\n",
              "      <td>6</td>\n",
              "      <td>0</td>\n",
              "      <td>False</td>\n",
              "      <td>False</td>\n",
              "      <td>en</td>\n",
              "      <td>NaN</td>\n",
              "      <td>NaN</td>\n",
              "      <td>NaN</td>\n",
              "      <td>NaN</td>\n",
              "      <td>NaN</td>\n",
              "      <td>NaN</td>\n",
              "    </tr>\n",
              "  </tbody>\n",
              "</table>\n",
              "</div>"
            ],
            "text/plain": [
              "                 created_at  ...  withheld_in_countries\n",
              "0 2018-07-31 13:34:40+00:00  ...                    NaN\n",
              "1 2018-07-31 13:34:40+00:00  ...                    NaN\n",
              "2 2018-07-31 13:34:40+00:00  ...                    NaN\n",
              "3 2018-07-31 13:34:40+00:00  ...                    NaN\n",
              "4 2018-07-31 13:34:40+00:00  ...                    NaN\n",
              "\n",
              "[5 rows x 31 columns]"
            ]
          },
          "metadata": {
            "tags": []
          },
          "execution_count": 3
        }
      ]
    },
    {
      "cell_type": "markdown",
      "metadata": {
        "id": "YbveOESFmW2h"
      },
      "source": [
        "Wow, its a huge amount of info! there are 11099 rows and 31 columns in total, and some values, such as the in the user column, are dictionaries themselves with a lot more content!\n",
        "\n",
        "Which atributtes should I consider as features to our KNN model as the ones that most influences the chances of a tweet going viral?\n",
        "\n",
        "*   Number of user's followers\n",
        "*   Number of user's friends\n",
        "*   Tweet length\n",
        "*   Number of hashtags\n",
        "*   Number of links\n",
        "*   The number of words\n",
        "*   The average length of the words\n",
        "\n",
        "\n"
      ]
    },
    {
      "cell_type": "markdown",
      "metadata": {
        "id": "IsmO1lKUviFb"
      },
      "source": [
        "# Creating features and labels\n",
        "\n",
        "A K-Nearest Neighbor classifier is a supervised machine learning algorithm, and as a result, we need to have a dataset with tagged labels. For this specific example, we need a dataset where every tweet is marked as viral or not viral.\n",
        "\n",
        "So how do we define a viral tweet?\n",
        "A good place to start is to look at the number of retweets the tweet has. \n"
      ]
    },
    {
      "cell_type": "code",
      "metadata": {
        "id": "g1YKME3cviFd",
        "colab": {
          "base_uri": "https://localhost:8080/",
          "height": 1000
        },
        "outputId": "aa9e2a09-c394-4f54-90cf-71e92c3468b6"
      },
      "source": [
        "### Analyzing the popularity of each sample in the dataset ###\n",
        "ret_count = all_tweets['retweet_count'].value_counts().reset_index().rename(columns = {'index': 'Retweet_times', 'retweet_count': 'Frequency'})\n",
        "plt.plot(range(len(ret_count)), ret_count)\n",
        "plt.title('Retweet times')\n",
        "plt.xlabel('index in the dataset')\n",
        "plt.ylabel('Number of Retweets')\n",
        "plt.show()\n",
        "\n",
        "### Analyzing the distribution of popularity ###\n",
        "plt.hist(ret_count['Retweet_times'], bins = 1000)\n",
        "plt.show()\n",
        "\n",
        "print(all_tweets['retweet_count'].nlargest(50))\n",
        "print(all_tweets['retweet_count'].mean())\n",
        "\n"
      ],
      "execution_count": 4,
      "outputs": [
        {
          "output_type": "display_data",
          "data": {
            "image/png": "[encoded data removed]",
            "text/plain": [
              "<Figure size 432x288 with 1 Axes>"
            ]
          },
          "metadata": {
            "tags": [],
            "needs_background": "light"
          }
        },
        {
          "output_type": "display_data",
          "data": {
            "image/png": "[encoded data removed]",
            "text/plain": [
              "<Figure size 432x288 with 1 Axes>"
            ]
          },
          "metadata": {
            "tags": [],
            "needs_background": "light"
          }
        },
        {
          "output_type": "stream",
          "text": [
            "5584     413719\n",
            "6185     173062\n",
            "6454     173061\n",
            "9271     173061\n",
            "4821     173060\n",
            "6174     168485\n",
            "4550     168484\n",
            "8460     162433\n",
            "7198     162431\n",
            "4889     162428\n",
            "3311     162425\n",
            "3741     162425\n",
            "1599     162423\n",
            "1667     162421\n",
            "7        162420\n",
            "3094     162417\n",
            "9186     140541\n",
            "7529     140539\n",
            "1297     140538\n",
            "10381    112879\n",
            "10395    112879\n",
            "9895     112878\n",
            "4694     112875\n",
            "1504     112869\n",
            "5766      94965\n",
            "5396      91076\n",
            "9764      89348\n",
            "9311      85216\n",
            "10515     85216\n",
            "9567      84130\n",
            "646       82765\n",
            "10329     82600\n",
            "9808      82595\n",
            "9459      82591\n",
            "8997      82587\n",
            "8509      82586\n",
            "8626      82586\n",
            "8108      82583\n",
            "7839      82581\n",
            "7581      82578\n",
            "7454      82576\n",
            "7486      82576\n",
            "6323      82562\n",
            "6026      82560\n",
            "6038      82560\n",
            "5535      82558\n",
            "5207      82551\n",
            "3952      82543\n",
            "3968      82543\n",
            "3779      82541\n",
            "Name: retweet_count, dtype: int64\n",
            "2777.95639246779\n"
          ],
          "name": "stdout"
        }
      ]
    },
    {
      "cell_type": "markdown",
      "metadata": {
        "id": "d6pDUtsjvz64"
      },
      "source": [
        "It seems that although there are tweets with outstanding popularity, they are extremely rare, as the distribution graph and low mean shows..\n",
        "\n",
        "To define what a viral tweet label is, I'm going to first use the median and then experiment with the third quartile to see if my model's accuracy changes substancially."
      ]
    },
    {
      "cell_type": "code",
      "metadata": {
        "id": "z_KPfzQJ4Cbp",
        "outputId": "b31d3e61-9b51-493e-f626-1cd12dcd815e",
        "colab": {
          "base_uri": "https://localhost:8080/"
        }
      },
      "source": [
        "### Verifying the user dictionary ###\n",
        "print(all_tweets['user'][0])"
      ],
      "execution_count": 6,
      "outputs": [
        {
          "output_type": "stream",
          "text": [
            "{'id': 145388018, 'id_str': '145388018', 'name': 'Derek Wolkenhauer', 'screen_name': 'derekw221', 'location': 'Waterloo, Iowa', 'description': '', 'url': None, 'entities': {'description': {'urls': []}}, 'protected': False, 'followers_count': 215, 'friends_count': 335, 'listed_count': 2, 'created_at': 'Tue May 18 21:30:10 +0000 2010', 'favourites_count': 3419, 'utc_offset': None, 'time_zone': None, 'geo_enabled': True, 'verified': False, 'statuses_count': 4475, 'lang': 'en', 'contributors_enabled': False, 'is_translator': False, 'is_translation_enabled': False, 'profile_background_color': '022330', 'profile_background_image_url': 'http://abs.twimg.com/images/themes/theme15/bg.png', 'profile_background_image_url_https': 'https://abs.twimg.com/images/themes/theme15/bg.png', 'profile_background_tile': False, 'profile_image_url': 'http://pbs.twimg.com/profile_images/995790590276243456/cgxRVviN_normal.jpg', 'profile_image_url_https': 'https://pbs.twimg.com/profile_images/995790590276243456/cgxRVviN_normal.jpg', 'profile_banner_url': 'https://pbs.twimg.com/profile_banners/145388018/1494937921', 'profile_link_color': '0084B4', 'profile_sidebar_border_color': 'A8C7F7', 'profile_sidebar_fill_color': 'C0DFEC', 'profile_text_color': '333333', 'profile_use_background_image': True, 'has_extended_profile': True, 'default_profile': False, 'default_profile_image': False, 'following': False, 'follow_request_sent': False, 'notifications': False, 'translator_type': 'none'}\n"
          ],
          "name": "stdout"
        }
      ]
    },
    {
      "cell_type": "code",
      "metadata": {
        "id": "syXoJ4tNyP8E"
      },
      "source": [
        "ret_median = all_tweets['retweet_count'].median()\n",
        "labels = pd.DataFrame()\n",
        "labels['is_viral'] = np.where(all_tweets['retweet_count'] > ret_median, 1, 0)\n",
        "\n",
        "features = pd.DataFrame()\n",
        "\n",
        "features['n_user_followers'] = all_tweets.apply(lambda tweet: tweet['user']['followers_count'], axis = 1)\n",
        "features['n_user_friends'] = all_tweets.apply(lambda tweet: tweet['user']['friends_count'], axis = 1)\n",
        "features['tweet_length'] = all_tweets.apply(lambda tweet: len(tweet['text']), axis = 1)\n",
        "features['n_hash'] = all_tweets.apply(lambda tweet: tweet['text'].count('#'), axis = 1)\n",
        "features['n_links'] = all_tweets.apply(lambda tweet: tweet['text'].count('http'), axis = 1)\n",
        "features['n_words'] = all_tweets.apply(lambda tweet: len(tweet['text'].split(' ')), axis = 1)\n",
        "features['avg_length_words'] = features.apply(lambda row: (row['tweet_length'] / row['n_words']), axis = 1)\n"
      ],
      "execution_count": 68,
      "outputs": []
    },
    {
      "cell_type": "markdown",
      "metadata": {
        "id": "btCH2NB8viFv"
      },
      "source": [
        "# Scaling the Data\n",
        "\n",
        "We've now made the features/labels that we want to feed into our classifier. But first, as the features are in distinct magnitudes, let's scale the data.\n",
        "\n",
        "\n",
        "The scale function will normalize the data so all of the features will vary within the same range. (axis = 0 scales feature-wise (columns))"
      ]
    },
    {
      "cell_type": "code",
      "metadata": {
        "id": "TTVH21O1viF2",
        "outputId": "8cb42b71-347a-4f15-fc74-3a6665583f09",
        "colab": {
          "base_uri": "https://localhost:8080/"
        }
      },
      "source": [
        "scaled_features = scale(features, axis = 0)\n",
        "print(scaled_features)"
      ],
      "execution_count": 69,
      "outputs": [
        {
          "output_type": "stream",
          "text": [
            "[[-0.02878298 -0.14483305  0.6164054  ... -0.78415588  1.15749167\n",
            "  -0.55224832]\n",
            " [-0.02886246 -0.16209787 -1.64577622 ... -0.78415588 -0.73053623\n",
            "  -0.65297884]\n",
            " [-0.02887736 -0.11566596  0.6164054  ... -0.78415588  0.47093607\n",
            "  -0.15979176]\n",
            " ...\n",
            " [-0.02918038 -0.1768776   0.6164054  ...  1.11738358 -0.21561953\n",
            "   0.40708993]\n",
            " [-0.02955792 -0.14679496  0.6164054  ... -0.78415588  1.67240838\n",
            "  -0.77554257]\n",
            " [-0.02208668  0.0333085  -1.71759151 ... -0.78415588 -1.07381404\n",
            "  -0.39806896]]\n"
          ],
          "name": "stdout"
        }
      ]
    },
    {
      "cell_type": "markdown",
      "metadata": {
        "id": "btaKAbn3viF3"
      },
      "source": [
        "# Creating the Training Set and Test Set\n",
        "\n",
        "To evaluate the effectiveness of our classifier, we now split `scaled_features` and `labels` into a training set and test set using scikit-learn's `train_test_split` function. "
      ]
    },
    {
      "cell_type": "code",
      "metadata": {
        "id": "IWVAbEN3viF5"
      },
      "source": [
        "train_features, test_features, train_labels, test_labels = train_test_split(scaled_features, labels.values.ravel(), test_size = 0.2, random_state = 1)"
      ],
      "execution_count": 70,
      "outputs": []
    },
    {
      "cell_type": "markdown",
      "metadata": {
        "id": "M2kl-sBhviF5"
      },
      "source": [
        "# Training the Classifier\n",
        "\n",
        "We can finally use the K-Nearest Neighbor classifier. Let's test it using `k = 5`.\n"
      ]
    },
    {
      "cell_type": "code",
      "metadata": {
        "id": "ULNov7s6viF6",
        "outputId": "69a02b0e-8992-4f9a-9878-178b847d892b",
        "colab": {
          "base_uri": "https://localhost:8080/"
        }
      },
      "source": [
        "classifier = KNeighborsClassifier(n_neighbors=5)\n",
        "classifier.fit(train_features, train_labels)\n",
        "print(classifier.score(test_features,test_labels))"
      ],
      "execution_count": 71,
      "outputs": [
        {
          "output_type": "stream",
          "text": [
            "0.7252252252252253\n"
          ],
          "name": "stdout"
        }
      ]
    },
    {
      "cell_type": "markdown",
      "metadata": {
        "id": "uMgYtAj9G2rM"
      },
      "source": [
        "73% of predictability, nice, let's see if tuning k improves the result.."
      ]
    },
    {
      "cell_type": "markdown",
      "metadata": {
        "id": "8OFAkpn-viF7"
      },
      "source": [
        "# Fine-tuning K\n",
        "\n",
        "We've tested our classifier with `k = 5`, but maybe there's a `k` that will work better. Let's test many different values for `k` and graph the results. "
      ]
    },
    {
      "cell_type": "code",
      "metadata": {
        "id": "7GApOUoOviF9"
      },
      "source": [
        "### Appending each respective k-score through a loop ###\n",
        "k_scores = []\n",
        "for i in range(1,101):\n",
        "  classifier = KNeighborsClassifier(n_neighbors=i)\n",
        "  classifier.fit(train_features, train_labels)\n",
        "  k_scores.append(classifier.score(test_features,test_labels))"
      ],
      "execution_count": 72,
      "outputs": []
    },
    {
      "cell_type": "code",
      "metadata": {
        "id": "h_yF7M5YAvas",
        "outputId": "557b7362-b7ff-49c7-f615-dc798d001e7c",
        "colab": {
          "base_uri": "https://localhost:8080/",
          "height": 295
        }
      },
      "source": [
        "### Plotting the k's vs their scores ###\n",
        "x = range(1,101)\n",
        "plt.plot(x, k_scores)\n",
        "plt.title('K vs score')\n",
        "plt.xlabel('K value')\n",
        "plt.ylabel('Score')\n",
        "plt.show()"
      ],
      "execution_count": 73,
      "outputs": [
        {
          "output_type": "display_data",
          "data": {
            "image/png": "[encoded data removed]",
            "text/plain": [
              "<Figure size 432x288 with 1 Axes>"
            ]
          },
          "metadata": {
            "tags": [],
            "needs_background": "light"
          }
        }
      ]
    },
    {
      "cell_type": "markdown",
      "metadata": {
        "id": "mqE9vt60H49p"
      },
      "source": [
        "It seems that the maximum score is reached near k = 15, lets get it's maximum value:"
      ]
    },
    {
      "cell_type": "code",
      "metadata": {
        "id": "ZlIPM1V4DQSm",
        "outputId": "b2a8e716-4450-4060-86f7-3f266b244db6",
        "colab": {
          "base_uri": "https://localhost:8080/"
        }
      },
      "source": [
        "### Finding max score and it's k ###\n",
        "max_score = max(k_scores)\n",
        "max_k = k_scores.index(max_score)\n",
        "print('The K that maximizes the score is:', max_k, 'and it\\'s score:', max_score)"
      ],
      "execution_count": 74,
      "outputs": [
        {
          "output_type": "stream",
          "text": [
            "The K that maximizes the score is: 13 and it's score: 0.7396396396396396\n"
          ],
          "name": "stdout"
        }
      ]
    },
    {
      "cell_type": "markdown",
      "metadata": {
        "id": "gdLb5XSJEZLE"
      },
      "source": [
        "Indeed, it improved a little, 74%! KNN although a simple algorithm, works great in this case. The main shortcome that I would focus here is the lack of information about the feature's importance into predicting the target..\n",
        "\n",
        "This is the reason why I'm going to apply another ML algorithm, this time a logistic regression one:"
      ]
    },
    {
      "cell_type": "markdown",
      "metadata": {
        "id": "RY4TI3SGviF-"
      },
      "source": [
        "# Applying a Logistic Regression Model"
      ]
    },
    {
      "cell_type": "markdown",
      "metadata": {
        "id": "ty43d7peO5sW"
      },
      "source": [
        "Before fitting the model, I'm also going to apply some preprocessing into the feature data.\n",
        "\n",
        "As the logistic regression model works better with normalized data, I'm going to build two models, each with a norm technique, one with min-max normalization and the other with z-score."
      ]
    },
    {
      "cell_type": "markdown",
      "metadata": {
        "id": "BN6zO8ugX-G5"
      },
      "source": [
        "### Min-max normalization ###"
      ]
    },
    {
      "cell_type": "code",
      "metadata": {
        "id": "_czCfTLkPdrF"
      },
      "source": [
        "### normalizing ###\n",
        "mm_normer = MinMaxScaler()\n",
        "mm_features = mm_normer.fit_transform(features)"
      ],
      "execution_count": 78,
      "outputs": []
    },
    {
      "cell_type": "code",
      "metadata": {
        "id": "KPI2Ccu1Y6RF"
      },
      "source": [
        "### splitting ###\n",
        "train_features, test_features, train_labels, test_labels = train_test_split(mm_features, labels.values.ravel(), test_size = 0.2, random_state = 1)"
      ],
      "execution_count": 99,
      "outputs": []
    },
    {
      "cell_type": "code",
      "metadata": {
        "colab": {
          "base_uri": "https://localhost:8080/"
        },
        "id": "zhHU0LGrZOWI",
        "outputId": "14dc3001-0376-4ab7-842a-a29bde6146c7"
      },
      "source": [
        "### training ###\n",
        "lr_classifier = LogisticRegression()\n",
        "lr_classifier.fit(train_features, train_labels)\n",
        "print(lr_classifier.score(test_features,test_labels))"
      ],
      "execution_count": 100,
      "outputs": [
        {
          "output_type": "stream",
          "text": [
            "0.690990990990991\n"
          ],
          "name": "stdout"
        }
      ]
    },
    {
      "cell_type": "markdown",
      "metadata": {
        "id": "hPLM5RqKeR8N"
      },
      "source": [
        "Why such a low score?"
      ]
    },
    {
      "cell_type": "markdown",
      "metadata": {
        "id": "A8pUwwZbbBRz"
      },
      "source": [
        "### Z-score norm (standardization)"
      ]
    },
    {
      "cell_type": "code",
      "metadata": {
        "id": "bi2oG7B1bTno"
      },
      "source": [
        "### normalizing ###\n",
        "z_normer = StandardScaler()\n",
        "z_features = z_normer.fit_transform(features)"
      ],
      "execution_count": 84,
      "outputs": []
    },
    {
      "cell_type": "code",
      "metadata": {
        "id": "55-U985GbTnp"
      },
      "source": [
        "### splitting ###\n",
        "train_features2, test_features2, train_labels2, test_labels2 = train_test_split(z_features, labels.values.ravel(), test_size = 0.2, random_state = 1)"
      ],
      "execution_count": 95,
      "outputs": []
    },
    {
      "cell_type": "code",
      "metadata": {
        "colab": {
          "base_uri": "https://localhost:8080/"
        },
        "id": "-WO4nyPhbTnp",
        "outputId": "6c117cf0-e4bb-4ca5-a484-d8847d3e33a0"
      },
      "source": [
        "### training ###\n",
        "lr2_classifier = LogisticRegression()\n",
        "lr2_classifier.fit(train_features2, train_labels2)\n",
        "print(lr2_classifier.score(test_features2,test_labels))"
      ],
      "execution_count": 96,
      "outputs": [
        {
          "output_type": "stream",
          "text": [
            "0.690990990990991\n"
          ],
          "name": "stdout"
        }
      ]
    },
    {
      "cell_type": "markdown",
      "metadata": {
        "id": "dYcGkh1Xb2Ev"
      },
      "source": [
        "Logistic regression doesn't seem to work well in this case, maybe because of the fixed threshold? let's analyze the coefficients."
      ]
    },
    {
      "cell_type": "code",
      "metadata": {
        "id": "SV04OmPkcCYF",
        "outputId": "2fe7953f-d61a-429b-c217-3cc6fd14c206",
        "colab": {
          "base_uri": "https://localhost:8080/"
        }
      },
      "source": [
        "coef = lr2_classifier.coef_\n",
        "print(coef.tolist()[0])\n",
        "print(features.columns)"
      ],
      "execution_count": 101,
      "outputs": [
        {
          "output_type": "stream",
          "text": [
            "[-2.131458529090055, -0.001974044133911229, 0.3931459548196401, 0.030101579426527313, -0.5174602999179864, 0.09555489980129002, 0.08308711135346977]\n",
            "Index(['n_user_followers', 'n_user_friends', 'tweet_length', 'n_hash',\n",
            "       'n_links', 'n_words', 'avg_length_words'],\n",
            "      dtype='object')\n"
          ],
          "name": "stdout"
        }
      ]
    },
    {
      "cell_type": "markdown",
      "metadata": {
        "id": "qkwIbd2gkijR"
      },
      "source": [
        "Weird, the number of user's followers shouldn't have a negative coefficient, by reading some threads about fliping signs, I've found out that \"omitted variable bias\" and \"spurious relationship\" can make coefficients go crazy. Then, to improve this Logistic Regression model, I'd first try to change the input features"
      ]
    }
  ]
}